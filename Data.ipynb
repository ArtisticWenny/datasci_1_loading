{
  "nbformat": 4,
  "nbformat_minor": 0,
  "metadata": {
    "colab": {
      "provenance": [],
      "authorship_tag": "ABX9TyOcgsrqKvU8RA//6SViyvvp",
      "include_colab_link": true
    },
    "kernelspec": {
      "name": "python3",
      "display_name": "Python 3"
    },
    "language_info": {
      "name": "python"
    }
  },
  "cells": [
    {
      "cell_type": "markdown",
      "metadata": {
        "id": "view-in-github",
        "colab_type": "text"
      },
      "source": [
        "<a href=\"https://colab.research.google.com/github/ArtisticWenny/datasci_1_loading/blob/main/Data.ipynb\" target=\"_parent\"><img src=\"https://colab.research.google.com/assets/colab-badge.svg\" alt=\"Open In Colab\"/></a>"
      ]
    },
    {
      "cell_type": "markdown",
      "source": [
        "This is a spreadsheet of data of top 250 IMDb movies with the highest ratings."
      ],
      "metadata": {
        "id": "VHrFjC9OBF4i"
      }
    },
    {
      "cell_type": "code",
      "execution_count": null,
      "metadata": {
        "colab": {
          "base_uri": "https://localhost:8080/"
        },
        "id": "GAmFgGALvTMo",
        "outputId": "115423e3-c8c9-441d-c812-9ff4c0842d70"
      },
      "outputs": [
        {
          "output_type": "stream",
          "name": "stdout",
          "text": [
            "  budget   Profit\n",
            "0    218        0\n",
            "1   1100        0\n",
            "2   4500        0\n",
            "3   7000        0\n",
            "4   9000        0\n",
            "5  10000        0\n",
            "6  14000        0\n",
            "7  15000        0\n",
            "8  23000        0\n",
            "9  25000        0\n"
          ]
        }
      ],
      "source": [
        "import pandas as pd\n",
        "\n",
        "xlsx_file_paths = ['/content/drive/MyDrive/imdbmovie.xlsx']\n",
        "\n",
        "df = pd.read_excel('/content/drive/MyDrive/imdbmovie.xlsx')\n",
        "\n",
        "print(df.head(10))"
      ]
    },
    {
      "cell_type": "markdown",
      "source": [
        "This is a data spread sheet of United States Super markets profit margins, and products"
      ],
      "metadata": {
        "id": "MX0tP3IsBpWu"
      }
    },
    {
      "cell_type": "code",
      "source": [
        "import pandas as pd\n",
        "\n",
        "xlsx_file_paths = ['/content/drive/MyDrive/Supplies.xlsx']\n",
        "\n",
        "df = pd.read_excel('/content/drive/MyDrive/Supplies.xlsx')\n",
        "\n",
        "print(df.head(10))"
      ],
      "metadata": {
        "colab": {
          "base_uri": "https://localhost:8080/"
        },
        "id": "XwzQXEQRvwvY",
        "outputId": "1c65f9c6-f0d0-49d4-ccc6-7f846bb71128"
      },
      "execution_count": null,
      "outputs": [
        {
          "output_type": "stream",
          "name": "stdout",
          "text": [
            "   Row ID Order Priority  Discount  Unit Price  Shipping Cost  Customer ID  \\\n",
            "0   20847           High      0.01        2.84           0.93            3   \n",
            "1   20228  Not Specified      0.02      500.98          26.00            5   \n",
            "2   21776       Critical      0.06        9.48           7.29           11   \n",
            "3   24844         Medium      0.09       78.69          19.99           14   \n",
            "4   24846         Medium      0.08        3.28           2.31           14   \n",
            "5   24847         Medium      0.05        3.28           4.20           14   \n",
            "6   24848         Medium      0.05        3.58           1.63           14   \n",
            "7   18181       Critical      0.00        4.42           4.99           15   \n",
            "8   20925         Medium      0.01       35.94           6.66           15   \n",
            "\n",
            "  Customer Segment Product Category Product Sub-Category Product Container  \\\n",
            "0        Corporate  Office Supplies  Pens & Art Supplies          Wrap Bag   \n",
            "1      Home Office        Furniture   Chairs & Chairmats        Jumbo Drum   \n",
            "2      Home Office        Furniture   Office Furnishings        Small Pack   \n",
            "3   Small Business        Furniture   Office Furnishings         Small Box   \n",
            "4   Small Business  Office Supplies  Pens & Art Supplies          Wrap Bag   \n",
            "5   Small Business  Office Supplies  Pens & Art Supplies          Wrap Bag   \n",
            "6   Small Business  Office Supplies         Rubber Bands          Wrap Bag   \n",
            "7   Small Business  Office Supplies            Envelopes         Small Box   \n",
            "8   Small Business  Office Supplies            Envelopes         Small Box   \n",
            "\n",
            "   ...   Region  State or Province         City Postal Code Order Date  \\\n",
            "0  ...     West         Washington    Anacortes       98221 2015-01-07   \n",
            "1  ...     West         California  San Gabriel       91776 2015-06-13   \n",
            "2  ...     East         New Jersey      Roselle        7203 2015-02-15   \n",
            "3  ...  Central          Minnesota   Prior Lake       55372 2015-05-12   \n",
            "4  ...  Central          Minnesota   Prior Lake       55372 2015-05-12   \n",
            "5  ...  Central          Minnesota   Prior Lake       55372 2015-05-12   \n",
            "6  ...  Central          Minnesota   Prior Lake       55372 2015-05-12   \n",
            "7  ...     East           New York    Smithtown       11787 2015-04-08   \n",
            "8  ...     East           New York    Smithtown       11787 2015-05-28   \n",
            "\n",
            "   Ship Date     Profit Quantity ordered new    Sales  Order ID  \n",
            "0 2015-01-08     4.5600                    4    13.01     88522  \n",
            "1 2015-06-15  4390.3665                   12  6362.85     90193  \n",
            "2 2015-02-17   -53.8096                   22   211.15     90192  \n",
            "3 2015-05-14   803.4705                   16  1164.45     86838  \n",
            "4 2015-05-13   -24.0300                    7    22.23     86838  \n",
            "5 2015-05-13   -37.0300                    4    13.99     86838  \n",
            "6 2015-05-13    -0.7100                    4    14.26     86838  \n",
            "7 2015-04-09   -59.8200                    7    33.47     86837  \n",
            "8 2015-05-28   261.8757                   10   379.53     86839  \n",
            "\n",
            "[9 rows x 23 columns]\n"
          ]
        }
      ]
    },
    {
      "cell_type": "markdown",
      "source": [
        "This is a spreadsheet of salary ranges and flight purchases"
      ],
      "metadata": {
        "id": "Hzzs6iyyBVAW"
      }
    },
    {
      "cell_type": "code",
      "source": [
        "import pandas as pd\n",
        "\n",
        "xlsx_file_paths = ['/content/drive/MyDrive/Flightdata.xlsx']\n",
        "\n",
        "df = pd.read_excel('/content/drive/MyDrive/Flightdata.xlsx')\n",
        "\n",
        "print(df.head(10))"
      ],
      "metadata": {
        "colab": {
          "base_uri": "https://localhost:8080/"
        },
        "id": "S_FzlVqQwXKk",
        "outputId": "f61a056f-17b5-49cf-b469-a531a975813d"
      },
      "execution_count": null,
      "outputs": [
        {
          "output_type": "stream",
          "name": "stdout",
          "text": [
            "   Country  Age  Salary Purchased\n",
            "0   France   44   72000        No\n",
            "1    Spain   27   48000       Yes\n",
            "2  Germany   30   54000        No\n",
            "3    Spain   38   61000        No\n",
            "4  Germany   40   61000       Yes\n",
            "5   France   35   58000       Yes\n",
            "6    Spain   35   52000        No\n",
            "7   France   48   79000       Yes\n",
            "8  Germany   50   83000        No\n"
          ]
        }
      ]
    },
    {
      "cell_type": "markdown",
      "source": [
        "This is a data spreadsheet of airlines travelers should avoid that have had crashes in the past"
      ],
      "metadata": {
        "id": "3U5f3-6rB6b9"
      }
    },
    {
      "cell_type": "code",
      "source": [
        "import pandas as pd\n",
        "\n",
        "csv_file_path = ['/content/drive/MyDrive/AirlineSafety - Sheet1.csv']\n",
        "\n",
        "df = pd.read_csv('/content/drive/MyDrive/AirlineSafety - Sheet1.csv')\n",
        "\n",
        "print(df.head(10))"
      ],
      "metadata": {
        "colab": {
          "base_uri": "https://localhost:8080/"
        },
        "id": "sWCyY7EPwyKc",
        "outputId": "c4a6fd22-ae47-4d9d-e92d-ab8e750cefe6"
      },
      "execution_count": null,
      "outputs": [
        {
          "output_type": "stream",
          "name": "stdout",
          "text": [
            "                 airline  avail_seat_km_per_week  incidents_85_99  \\\n",
            "0             Aer Lingus               320906734                2   \n",
            "1              Aeroflot*              1197672318               76   \n",
            "2  Aerolineas Argentinas               385803648                6   \n",
            "3            Aeromexico*               596871813                3   \n",
            "4             Air Canada              1865253802                2   \n",
            "5             Air France              3004002661               14   \n",
            "6             Air India*               869253552                2   \n",
            "7       Air New Zealand*               710174817                3   \n",
            "8       Alaska Airlines*               965346773                5   \n",
            "\n",
            "   fatal_accidents_85_99  fatalities_85_99  incidents_00_14  \\\n",
            "0                      0                 0                0   \n",
            "1                     14               128                6   \n",
            "2                      0                 0                1   \n",
            "3                      1                64                5   \n",
            "4                      0                 0                2   \n",
            "5                      4                79                6   \n",
            "6                      1               329                4   \n",
            "7                      0                 0                5   \n",
            "8                      0                 0                5   \n",
            "\n",
            "   fatal_accidents_00_14  fatalities_00_14  \n",
            "0                      0                 0  \n",
            "1                      1                88  \n",
            "2                      0                 0  \n",
            "3                      0                 0  \n",
            "4                      0                 0  \n",
            "5                      2               337  \n",
            "6                      1               158  \n",
            "7                      1                 7  \n",
            "8                      1                88  \n"
          ]
        }
      ]
    },
    {
      "cell_type": "markdown",
      "source": [
        "This is a spreadsheet of world wide COVID-19 daily report for 01/01/2021"
      ],
      "metadata": {
        "id": "aDbacD7mCyqt"
      }
    },
    {
      "cell_type": "code",
      "source": [
        "import pandas as pd\n",
        "\n",
        "csv_file_path = ['/content/drive/MyDrive/01-01-2021.csv']\n",
        "\n",
        "df = pd.read_csv('/content/drive/MyDrive/01-01-2021.csv')\n",
        "\n",
        "print(df.head(10))"
      ],
      "metadata": {
        "colab": {
          "base_uri": "https://localhost:8080/"
        },
        "id": "3atgjPeDyFU2",
        "outputId": "045b7770-d16c-487d-b373-9a4223a9c731"
      },
      "execution_count": null,
      "outputs": [
        {
          "output_type": "stream",
          "name": "stdout",
          "text": [
            "   FIPS Admin2                Province_State       Country_Region  \\\n",
            "0   NaN    NaN                           NaN          Afghanistan   \n",
            "1   NaN    NaN                           NaN              Albania   \n",
            "2   NaN    NaN                           NaN              Algeria   \n",
            "3   NaN    NaN                           NaN              Andorra   \n",
            "4   NaN    NaN                           NaN               Angola   \n",
            "5   NaN    NaN                           NaN  Antigua and Barbuda   \n",
            "6   NaN    NaN                           NaN            Argentina   \n",
            "7   NaN    NaN                           NaN              Armenia   \n",
            "8   NaN    NaN  Australian Capital Territory            Australia   \n",
            "9   NaN    NaN               New South Wales            Australia   \n",
            "\n",
            "           Last_Update       Lat       Long_  Confirmed  Deaths  Recovered  \\\n",
            "0  2021-01-02 05:22:33  33.93911   67.709953      52513    2201      41727   \n",
            "1  2021-01-02 05:22:33  41.15330   20.168300      58316    1181      33634   \n",
            "2  2021-01-02 05:22:33  28.03390    1.659600      99897    2762      67395   \n",
            "3  2021-01-02 05:22:33  42.50630    1.521800       8117      84       7463   \n",
            "4  2021-01-02 05:22:33 -11.20270   17.873900      17568     405      11146   \n",
            "5  2021-01-02 05:22:33  17.06080  -61.796400        159       5        148   \n",
            "6  2021-01-02 05:22:33 -38.41610  -63.616700    1629594   43319    1426676   \n",
            "7  2021-01-02 05:22:33  40.06910   45.038200     159738    2828     143355   \n",
            "8  2021-01-02 05:22:33 -35.47350  149.012400        118       3        114   \n",
            "9  2021-01-02 05:22:33 -33.86880  151.209300       4947      54          0   \n",
            "\n",
            "   Active                             Combined_Key  Incident_Rate  \\\n",
            "0    8585                              Afghanistan     134.896578   \n",
            "1   23501                                  Albania    2026.409062   \n",
            "2   29740                                  Algeria     227.809861   \n",
            "3     570                                  Andorra   10505.403482   \n",
            "4    6017                                   Angola      53.452981   \n",
            "5       6                      Antigua and Barbuda     162.364186   \n",
            "6  159599                                Argentina    3605.633332   \n",
            "7   13555                                  Armenia    5390.664389   \n",
            "8       1  Australian Capital Territory, Australia      27.563653   \n",
            "9    4893               New South Wales, Australia      60.938655   \n",
            "\n",
            "   Case_Fatality_Ratio  \n",
            "0             4.191343  \n",
            "1             2.025173  \n",
            "2             2.764848  \n",
            "3             1.034865  \n",
            "4             2.305328  \n",
            "5             3.144654  \n",
            "6             2.658269  \n",
            "7             1.770399  \n",
            "8             2.542373  \n",
            "9             1.091571  \n"
          ]
        }
      ]
    },
    {
      "cell_type": "code",
      "source": [
        "import pandas as pd\n",
        "\n",
        "json_file_path = ['/content/drive/MyDrive/json3.json']\n",
        "\n",
        "df = pd.read_json('/content/drive/MyDrive/json3.json')\n",
        "\n",
        "print(df.head(10))"
      ],
      "metadata": {
        "colab": {
          "base_uri": "https://localhost:8080/"
        },
        "id": "NjmIg83fyNV-",
        "outputId": "6974e702-d3dc-45d2-b9b4-e0e286c7d0ae"
      },
      "execution_count": null,
      "outputs": [
        {
          "output_type": "stream",
          "name": "stdout",
          "text": [
            "                                        serviceBusNamespaces\n",
            "messaging  [{'suffix': 'messaging', 'skuName': 'Standard'...\n",
            "relay           [{'suffix': 'relay', 'skuName': 'Standard'}]\n"
          ]
        }
      ]
    },
    {
      "cell_type": "code",
      "source": [
        "import pandas as pd\n",
        "\n",
        "json_file_path = ['/content/drive/MyDrive/json.json']\n",
        "\n",
        "df = pd.read_json('/content/drive/MyDrive/json.json')\n",
        "\n",
        "print(df.head(10))"
      ],
      "metadata": {
        "colab": {
          "base_uri": "https://localhost:8080/"
        },
        "id": "JQZYS0PS0yQA",
        "outputId": "f0250cf5-2cad-4951-b07b-4c4fdad7c73d"
      },
      "execution_count": null,
      "outputs": [
        {
          "output_type": "stream",
          "name": "stdout",
          "text": [
            "                                                response\n",
            "count                                                  6\n",
            "items  [{'id': 7, 'owner_id': 1, 'text': '', 'date': ...\n",
            "pages                                                 []\n",
            "users  {'id': 1, 'first_name': 'Леонид', 'last_name':...\n"
          ]
        }
      ]
    },
    {
      "cell_type": "code",
      "source": [
        "import pandas as pd\n",
        "\n",
        "json_file_path = ['/content/drive/MyDrive/test.json']\n",
        "\n",
        "df = pd.read_json('/content/drive/MyDrive/test.json')\n",
        "\n",
        "print(df.head(10))\n"
      ],
      "metadata": {
        "colab": {
          "base_uri": "https://localhost:8080/"
        },
        "id": "FXOr3Bkv1CxV",
        "outputId": "2ebecb0f-4d31-494a-e6e2-bb7b15b5b89a"
      },
      "execution_count": null,
      "outputs": [
        {
          "output_type": "stream",
          "name": "stdout",
          "text": [
            "                                                   glossary\n",
            "GlossDiv  {'title': 'S', 'GlossList': {'GlossEntry': {'I...\n",
            "title                                      example glossary\n"
          ]
        }
      ]
    },
    {
      "cell_type": "code",
      "source": [
        "from google.colab import drive\n",
        "\n",
        "drive.mount('/content/drive')"
      ],
      "metadata": {
        "colab": {
          "base_uri": "https://localhost:8080/"
        },
        "id": "dKsYlFuwvplQ",
        "outputId": "5292ecf0-5617-4bdf-8284-11f983a123aa"
      },
      "execution_count": null,
      "outputs": [
        {
          "output_type": "stream",
          "name": "stdout",
          "text": [
            "Mounted at /content/drive\n"
          ]
        }
      ]
    }
  ]
}